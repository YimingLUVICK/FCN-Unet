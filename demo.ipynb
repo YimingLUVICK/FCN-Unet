{
 "cells": [
  {
   "cell_type": "code",
   "execution_count": 1,
   "id": "75f4a843-2634-427d-9239-da9721e21093",
   "metadata": {
    "scrolled": true
   },
   "outputs": [],
   "source": [
    "from dataset import *\n",
    "from model import *\n",
    "from predict import *\n",
    "from train import *\n",
    "from utils import *"
   ]
  },
  {
   "cell_type": "code",
   "execution_count": 43,
   "id": "b315d356-b35d-49e4-9976-67836d82e8c8",
   "metadata": {},
   "outputs": [],
   "source": [
    "path = 'E:\\BaiduNetdiskDownload\\WildScenes2d'\n",
    "datalength = 9000\n",
    "test_ratio = 0.2\n",
    "batchsize = 8\n",
    "epoch = 10"
   ]
  },
  {
   "cell_type": "code",
   "execution_count": 44,
   "id": "a804406f-53e7-4d6f-b8fb-376481be67d6",
   "metadata": {},
   "outputs": [],
   "source": [
    "train_ds, test_ds, train_count, test_count, test_images, test_labels = select_data(path, datalength, test_ratio)"
   ]
  },
  {
   "cell_type": "code",
   "execution_count": 4,
   "id": "003df5aa-f21a-449c-95ce-7702e78f92cb",
   "metadata": {},
   "outputs": [],
   "source": [
    "load_train_ds, load_test_ds = load_dataset(train_ds, test_ds, 1000, batchsize)"
   ]
  },
  {
   "cell_type": "code",
   "execution_count": 5,
   "id": "7532c046-84d3-45fd-832f-868c0bfb3091",
   "metadata": {},
   "outputs": [
    {
     "name": "stdout",
     "output_type": "stream",
     "text": [
      "WARNING:tensorflow:From C:\\Users\\lyimi\\anaconda3\\envs\\SegmentationProject\\Lib\\site-packages\\keras\\src\\backend\\tensorflow\\core.py:192: The name tf.placeholder is deprecated. Please use tf.compat.v1.placeholder instead.\n",
      "\n"
     ]
    }
   ],
   "source": [
    "model = fcn_model((768,1024,3))   ## or model = unet_model((768,1024,3))"
   ]
  },
  {
   "cell_type": "code",
   "execution_count": 6,
   "id": "265a6b1d-151c-4bb1-8a7e-53e59e80cfef",
   "metadata": {
    "scrolled": true
   },
   "outputs": [
    {
     "name": "stdout",
     "output_type": "stream",
     "text": [
      "Epoch 1/5\n"
     ]
    },
    {
     "ename": "AbortedError",
     "evalue": "Graph execution error:\n\nDetected at node StatefulPartitionedCall/functional_1_1/conv2d_transpose_4_1/conv_transpose defined at (most recent call last):\n<stack traces unavailable>\nOperation received an exception:Status: 1, message: could not create a primitive, in file tensorflow/core/kernels/mkl/mkl_conv_grad_input_ops.cc:546\n\t [[{{node StatefulPartitionedCall/functional_1_1/conv2d_transpose_4_1/conv_transpose}}]] [Op:__inference_one_step_on_iterator_5198]",
     "output_type": "error",
     "traceback": [
      "\u001b[1;31m---------------------------------------------------------------------------\u001b[0m",
      "\u001b[1;31mAbortedError\u001b[0m                              Traceback (most recent call last)",
      "Cell \u001b[1;32mIn[6], line 1\u001b[0m\n\u001b[1;32m----> 1\u001b[0m model \u001b[38;5;241m=\u001b[39m train(model, load_train_ds, load_test_ds, train_count, test_count, epoch, batchsize)\n",
      "File \u001b[1;32mE:\\BaiduNetdiskDownload\\mysegmentation\\train.py:21\u001b[0m, in \u001b[0;36mtrain\u001b[1;34m(model, load_train_ds, load_test_ds, train_count, test_count, EPOCH, BATCHSIZE)\u001b[0m\n\u001b[0;32m     18\u001b[0m tensorboard_callback \u001b[38;5;241m=\u001b[39m tf\u001b[38;5;241m.\u001b[39mkeras\u001b[38;5;241m.\u001b[39mcallbacks\u001b[38;5;241m.\u001b[39mTensorBoard(log,histogram_freq\u001b[38;5;241m=\u001b[39m\u001b[38;5;241m1\u001b[39m)\n\u001b[0;32m     19\u001b[0m save_func \u001b[38;5;241m=\u001b[39m tf\u001b[38;5;241m.\u001b[39mkeras\u001b[38;5;241m.\u001b[39mcallbacks\u001b[38;5;241m.\u001b[39mModelCheckpoint(filepath\u001b[38;5;241m=\u001b[39mos\u001b[38;5;241m.\u001b[39mpath\u001b[38;5;241m.\u001b[39mjoin(checkpoints_path,\u001b[38;5;124m'\u001b[39m\u001b[38;5;124mcheckpoint-\u001b[39m\u001b[38;5;132;01m{epoch:02d}\u001b[39;00m\u001b[38;5;124m-\u001b[39m\u001b[38;5;132;01m{val_loss:.2f}\u001b[39;00m\u001b[38;5;124m.weights.h5\u001b[39m\u001b[38;5;124m'\u001b[39m),save_weights_only\u001b[38;5;241m=\u001b[39m\u001b[38;5;28;01mTrue\u001b[39;00m)\n\u001b[1;32m---> 21\u001b[0m model\u001b[38;5;241m.\u001b[39mfit(load_train_ds, epochs\u001b[38;5;241m=\u001b[39mEPOCH, steps_per_epoch\u001b[38;5;241m=\u001b[39mtrain_count\u001b[38;5;241m/\u001b[39m\u001b[38;5;241m/\u001b[39mBATCHSIZE, validation_data\u001b[38;5;241m=\u001b[39mload_test_ds,\n\u001b[0;32m     22\u001b[0m               validation_steps\u001b[38;5;241m=\u001b[39mtest_count\u001b[38;5;241m/\u001b[39m\u001b[38;5;241m/\u001b[39mBATCHSIZE, callbacks\u001b[38;5;241m=\u001b[39m[tensorboard_callback,save_func])\n\u001b[0;32m     23\u001b[0m model\u001b[38;5;241m.\u001b[39msave(os\u001b[38;5;241m.\u001b[39mpath\u001b[38;5;241m.\u001b[39mjoin(current_path,\u001b[38;5;124m'\u001b[39m\u001b[38;5;124mmodel.keras\u001b[39m\u001b[38;5;124m'\u001b[39m))\n\u001b[0;32m     25\u001b[0m \u001b[38;5;28mprint\u001b[39m(\u001b[38;5;124m\"\u001b[39m\u001b[38;5;124mTRAIN FINISHED\u001b[39m\u001b[38;5;124m\"\u001b[39m)\n",
      "File \u001b[1;32m~\\anaconda3\\envs\\SegmentationProject\\Lib\\site-packages\\keras\\src\\utils\\traceback_utils.py:122\u001b[0m, in \u001b[0;36mfilter_traceback.<locals>.error_handler\u001b[1;34m(*args, **kwargs)\u001b[0m\n\u001b[0;32m    119\u001b[0m     filtered_tb \u001b[38;5;241m=\u001b[39m _process_traceback_frames(e\u001b[38;5;241m.\u001b[39m__traceback__)\n\u001b[0;32m    120\u001b[0m     \u001b[38;5;66;03m# To get the full stack trace, call:\u001b[39;00m\n\u001b[0;32m    121\u001b[0m     \u001b[38;5;66;03m# `keras.config.disable_traceback_filtering()`\u001b[39;00m\n\u001b[1;32m--> 122\u001b[0m     \u001b[38;5;28;01mraise\u001b[39;00m e\u001b[38;5;241m.\u001b[39mwith_traceback(filtered_tb) \u001b[38;5;28;01mfrom\u001b[39;00m \u001b[38;5;28;01mNone\u001b[39;00m\n\u001b[0;32m    123\u001b[0m \u001b[38;5;28;01mfinally\u001b[39;00m:\n\u001b[0;32m    124\u001b[0m     \u001b[38;5;28;01mdel\u001b[39;00m filtered_tb\n",
      "File \u001b[1;32m~\\anaconda3\\envs\\SegmentationProject\\Lib\\site-packages\\tensorflow\\python\\eager\\execute.py:53\u001b[0m, in \u001b[0;36mquick_execute\u001b[1;34m(op_name, num_outputs, inputs, attrs, ctx, name)\u001b[0m\n\u001b[0;32m     51\u001b[0m \u001b[38;5;28;01mtry\u001b[39;00m:\n\u001b[0;32m     52\u001b[0m   ctx\u001b[38;5;241m.\u001b[39mensure_initialized()\n\u001b[1;32m---> 53\u001b[0m   tensors \u001b[38;5;241m=\u001b[39m pywrap_tfe\u001b[38;5;241m.\u001b[39mTFE_Py_Execute(ctx\u001b[38;5;241m.\u001b[39m_handle, device_name, op_name,\n\u001b[0;32m     54\u001b[0m                                       inputs, attrs, num_outputs)\n\u001b[0;32m     55\u001b[0m \u001b[38;5;28;01mexcept\u001b[39;00m core\u001b[38;5;241m.\u001b[39m_NotOkStatusException \u001b[38;5;28;01mas\u001b[39;00m e:\n\u001b[0;32m     56\u001b[0m   \u001b[38;5;28;01mif\u001b[39;00m name \u001b[38;5;129;01mis\u001b[39;00m \u001b[38;5;129;01mnot\u001b[39;00m \u001b[38;5;28;01mNone\u001b[39;00m:\n",
      "\u001b[1;31mAbortedError\u001b[0m: Graph execution error:\n\nDetected at node StatefulPartitionedCall/functional_1_1/conv2d_transpose_4_1/conv_transpose defined at (most recent call last):\n<stack traces unavailable>\nOperation received an exception:Status: 1, message: could not create a primitive, in file tensorflow/core/kernels/mkl/mkl_conv_grad_input_ops.cc:546\n\t [[{{node StatefulPartitionedCall/functional_1_1/conv2d_transpose_4_1/conv_transpose}}]] [Op:__inference_one_step_on_iterator_5198]"
     ]
    }
   ],
   "source": [
    "model = train(model, load_train_ds, load_test_ds, train_count, test_count, epoch, batchsize)"
   ]
  },
  {
   "cell_type": "code",
   "execution_count": null,
   "id": "a7652afa-c910-445d-9b50-0daffc9686a8",
   "metadata": {},
   "outputs": [],
   "source": [
    "predict(model, test_images, test_labels)"
   ]
  },
  {
   "cell_type": "code",
   "execution_count": null,
   "id": "88a89286-a4ba-4842-8a64-4d94e3d7bd60",
   "metadata": {},
   "outputs": [],
   "source": []
  }
 ],
 "metadata": {
  "kernelspec": {
   "display_name": "Python 3 (ipykernel)",
   "language": "python",
   "name": "python3"
  },
  "language_info": {
   "codemirror_mode": {
    "name": "ipython",
    "version": 3
   },
   "file_extension": ".py",
   "mimetype": "text/x-python",
   "name": "python",
   "nbconvert_exporter": "python",
   "pygments_lexer": "ipython3",
   "version": "3.11.8"
  }
 },
 "nbformat": 4,
 "nbformat_minor": 5
}
